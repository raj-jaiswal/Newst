{
  "cells": [
    {
      "cell_type": "code",
      "execution_count": 1,
      "metadata": {
        "colab": {
          "base_uri": "https://localhost:8080/"
        },
        "id": "Bjr8s9rJ0Ejz",
        "outputId": "4a7895a7-bf86-4d94-d577-7ecdb9094f4c"
      },
      "outputs": [
        {
          "name": "stdout",
          "output_type": "stream",
          "text": [
            "\u001b[33mhint: Using 'master' as the name for the initial branch. This default branch name\u001b[m\n",
            "\u001b[33mhint: is subject to change. To configure the initial branch name to use in all\u001b[m\n",
            "\u001b[33mhint: of your new repositories, which will suppress this warning, call:\u001b[m\n",
            "\u001b[33mhint: \u001b[m\n",
            "\u001b[33mhint: \tgit config --global init.defaultBranch <name>\u001b[m\n",
            "\u001b[33mhint: \u001b[m\n",
            "\u001b[33mhint: Names commonly chosen instead of 'master' are 'main', 'trunk' and\u001b[m\n",
            "\u001b[33mhint: 'development'. The just-created branch can be renamed via this command:\u001b[m\n",
            "\u001b[33mhint: \u001b[m\n",
            "\u001b[33mhint: \tgit branch -m <name>\u001b[m\n",
            "Initialized empty Git repository in /content/.git/\n",
            "remote: Enumerating objects: 37, done.\u001b[K\n",
            "remote: Counting objects: 100% (37/37), done.\u001b[K\n",
            "remote: Compressing objects: 100% (30/30), done.\u001b[K\n",
            "remote: Total 37 (delta 12), reused 30 (delta 6), pack-reused 0 (from 0)\u001b[K\n",
            "Unpacking objects: 100% (37/37), 13.31 MiB | 8.49 MiB/s, done.\n",
            "From https://github.com/raj-jaiswal/Newst\n",
            " * branch            main       -> FETCH_HEAD\n",
            " * [new branch]      main       -> origin/main\n"
          ]
        }
      ],
      "source": [
        "!git init\n",
        "!git remote add origin https://github.com/raj-jaiswal/Newst.git\n",
        "!git pull origin main"
      ]
    },
    {
      "cell_type": "code",
      "execution_count": 2,
      "metadata": {
        "colab": {
          "base_uri": "https://localhost:8080/"
        },
        "id": "4RYHCB2K0jUj",
        "outputId": "65802daa-eaac-46f4-b5a8-6b2fdfe6d837"
      },
      "outputs": [
        {
          "name": "stdout",
          "output_type": "stream",
          "text": [
            "True\n",
            "12.6\n",
            "Tesla T4\n"
          ]
        }
      ],
      "source": [
        "!python pytorch_sys_check.py"
      ]
    },
    {
      "cell_type": "code",
      "execution_count": 3,
      "metadata": {
        "colab": {
          "base_uri": "https://localhost:8080/"
        },
        "id": "LivLAMA33Btw",
        "outputId": "c0e481e2-a369-4d8e-f3e3-2116b8811504"
      },
      "outputs": [
        {
          "name": "stdout",
          "output_type": "stream",
          "text": [
            "Downloading from https://www.kaggle.com/api/v1/datasets/download/cymerunaslam/allthenews?dataset_version_number=1...\n",
            "100% 244M/244M [00:01<00:00, 140MB/s]\n",
            "Extracting files...\n",
            "Path to dataset files: /root/.cache/kagglehub/datasets/cymerunaslam/allthenews/versions/1\n",
            "Copied and removed /root/.cache/kagglehub/datasets/cymerunaslam/allthenews/versions/1/articles1.csv -> data/allthenews/articles1.csv\n",
            "Copied and removed /root/.cache/kagglehub/datasets/cymerunaslam/allthenews/versions/1/articles2.csv -> data/allthenews/articles2.csv\n",
            "Copied and removed /root/.cache/kagglehub/datasets/cymerunaslam/allthenews/versions/1/articles3.csv -> data/allthenews/articles3.csv\n"
          ]
        }
      ],
      "source": [
        "!python kaggle_import.py\n",
        "!python allthenews_cleanup.py"
      ]
    },
    {
      "cell_type": "code",
      "execution_count": 12,
      "metadata": {
        "colab": {
          "base_uri": "https://localhost:8080/"
        },
        "id": "A7kQ4n6v4No7",
        "outputId": "481d1a50-b4f0-4097-f4fb-354c4062ca78"
      },
      "outputs": [
        {
          "name": "stdout",
          "output_type": "stream",
          "text": [
            "Loading embeddings...\n",
            "Vocab size: 11005, emb_dim: 100\n",
            "Epoch 1/5 [chunk 1/10]: 100% 79/79 [02:54<00:00,  2.21s/batch, loss=6.2927, avg_loss=7.8582]\n",
            "Epoch 1/5 [chunk 2/10]: 100% 79/79 [03:00<00:00,  2.28s/batch, loss=6.1740, avg_loss=7.2509]\n",
            "Epoch 1/5 [chunk 3/10]: 100% 79/79 [02:59<00:00,  2.27s/batch, loss=6.3716, avg_loss=7.0176]\n",
            "Epoch 1/5 [chunk 4/10]: 100% 79/79 [02:59<00:00,  2.28s/batch, loss=5.8741, avg_loss=6.7775]\n",
            "Epoch 1/5 [chunk 5/10]: 100% 79/79 [03:00<00:00,  2.28s/batch, loss=5.8585, avg_loss=6.5537]\n",
            "Epoch 1/5 [chunk 6/10]: 100% 79/79 [03:00<00:00,  2.28s/batch, loss=5.1767, avg_loss=6.3541]\n",
            "Epoch 1/5 [chunk 7/10]: 100% 79/79 [02:59<00:00,  2.27s/batch, loss=4.9000, avg_loss=6.2401]\n",
            "Epoch 1/5 [chunk 8/10]: 100% 79/79 [02:58<00:00,  2.26s/batch, loss=5.4720, avg_loss=6.1483]\n",
            "Epoch 1/5 [chunk 9/10]: 100% 79/79 [03:00<00:00,  2.29s/batch, loss=5.0125, avg_loss=6.0863]\n",
            "Epoch 1/5 [chunk 10/10]: 100% 79/79 [03:02<00:00,  2.31s/batch, loss=5.3882, avg_loss=6.0235]\n",
            "Epoch 1 finished — avg_loss 6.023492 — time 1796.7s\n",
            "Saved checkpoint_epoch1.pt\n",
            "Epoch 2/5 [chunk 1/10]: 100% 79/79 [03:03<00:00,  2.32s/batch, loss=4.0602, avg_loss=4.2620]\n",
            "Epoch 2/5 [chunk 2/10]: 100% 79/79 [03:02<00:00,  2.31s/batch, loss=4.6398, avg_loss=4.3873]\n",
            "Epoch 2/5 [chunk 3/10]: 100% 79/79 [03:01<00:00,  2.30s/batch, loss=4.2954, avg_loss=4.5626]\n",
            "Epoch 2/5 [chunk 4/10]: 100% 79/79 [03:01<00:00,  2.30s/batch, loss=4.6685, avg_loss=4.6241]\n",
            "Epoch 2/5 [chunk 5/10]: 100% 79/79 [03:01<00:00,  2.30s/batch, loss=5.0228, avg_loss=4.6465]\n",
            "Epoch 2/5 [chunk 6/10]: 100% 79/79 [03:01<00:00,  2.30s/batch, loss=4.8742, avg_loss=4.6562]\n",
            "Epoch 2/5 [chunk 7/10]: 100% 79/79 [03:00<00:00,  2.28s/batch, loss=6.0590, avg_loss=4.7124]\n",
            "Epoch 2/5 [chunk 8/10]: 100% 79/79 [02:59<00:00,  2.27s/batch, loss=5.0412, avg_loss=4.7583]\n",
            "Epoch 2/5 [chunk 9/10]: 100% 79/79 [03:00<00:00,  2.29s/batch, loss=5.1718, avg_loss=4.8055]\n",
            "Epoch 2/5 [chunk 10/10]: 100% 79/79 [03:02<00:00,  2.31s/batch, loss=5.1245, avg_loss=4.8281]\n",
            "Epoch 2 finished — avg_loss 4.828116 — time 1815.6s\n",
            "Saved checkpoint_epoch2.pt\n",
            "Epoch 3/5 [chunk 1/10]: 100% 79/79 [03:03<00:00,  2.32s/batch, loss=3.9590, avg_loss=3.8659]\n",
            "Epoch 3/5 [chunk 2/10]: 100% 79/79 [03:02<00:00,  2.31s/batch, loss=3.6614, avg_loss=4.0472]\n",
            "Epoch 3/5 [chunk 3/10]: 100% 79/79 [03:01<00:00,  2.30s/batch, loss=4.4625, avg_loss=4.2417]\n",
            "Epoch 3/5 [chunk 4/10]: 100% 79/79 [03:01<00:00,  2.30s/batch, loss=4.4533, avg_loss=4.3168]\n",
            "Epoch 3/5 [chunk 5/10]: 100% 79/79 [03:01<00:00,  2.30s/batch, loss=4.8028, avg_loss=4.3503]\n",
            "Epoch 3/5 [chunk 6/10]: 100% 79/79 [03:01<00:00,  2.30s/batch, loss=4.7052, avg_loss=4.3690]\n",
            "Epoch 3/5 [chunk 7/10]: 100% 79/79 [03:00<00:00,  2.28s/batch, loss=5.0326, avg_loss=4.4245]\n",
            "Epoch 3/5 [chunk 8/10]: 100% 79/79 [02:59<00:00,  2.27s/batch, loss=4.1554, avg_loss=4.4714]\n",
            "Epoch 3/5 [chunk 9/10]: 100% 79/79 [03:01<00:00,  2.30s/batch, loss=4.9618, avg_loss=4.5177]\n",
            "Epoch 3/5 [chunk 10/10]: 100% 79/79 [03:03<00:00,  2.32s/batch, loss=4.3023, avg_loss=4.5385]\n",
            "Epoch 3 finished — avg_loss 4.538523 — time 1817.6s\n",
            "Saved checkpoint_epoch3.pt\n",
            "Epoch 4/5 [chunk 1/10]: 100% 79/79 [03:03<00:00,  2.32s/batch, loss=3.6513, avg_loss=3.6758]\n",
            "Epoch 4/5 [chunk 2/10]: 100% 79/79 [03:03<00:00,  2.32s/batch, loss=3.6405, avg_loss=3.8561]\n",
            "Epoch 4/5 [chunk 3/10]: 100% 79/79 [03:01<00:00,  2.30s/batch, loss=4.1432, avg_loss=4.0463]\n",
            "Epoch 4/5 [chunk 4/10]: 100% 79/79 [03:02<00:00,  2.31s/batch, loss=3.9819, avg_loss=4.1210]\n",
            "Epoch 4/5 [chunk 5/10]: 100% 79/79 [03:02<00:00,  2.30s/batch, loss=4.6309, avg_loss=4.1575]\n",
            "Epoch 4/5 [chunk 6/10]: 100% 79/79 [03:02<00:00,  2.31s/batch, loss=4.5182, avg_loss=4.1780]\n",
            "Epoch 4/5 [chunk 7/10]: 100% 79/79 [03:00<00:00,  2.29s/batch, loss=4.3119, avg_loss=4.2292]\n",
            "Epoch 4/5 [chunk 8/10]: 100% 79/79 [02:59<00:00,  2.27s/batch, loss=4.6473, avg_loss=4.2726]\n",
            "Epoch 4/5 [chunk 9/10]: 100% 79/79 [03:01<00:00,  2.30s/batch, loss=4.3271, avg_loss=4.3135]\n",
            "Epoch 4/5 [chunk 10/10]: 100% 79/79 [03:03<00:00,  2.32s/batch, loss=4.8562, avg_loss=4.3323]\n",
            "Epoch 4 finished — avg_loss 4.332304 — time 1820.4s\n",
            "Saved checkpoint_epoch4.pt\n",
            "Epoch 5/5 [chunk 1/10]: 100% 79/79 [03:01<00:00,  2.30s/batch, loss=3.9689, avg_loss=3.5228]\n",
            "Epoch 5/5 [chunk 2/10]: 100% 79/79 [03:03<00:00,  2.32s/batch, loss=4.4261, avg_loss=3.7013]\n",
            "Epoch 5/5 [chunk 3/10]: 100% 79/79 [03:02<00:00,  2.30s/batch, loss=3.9316, avg_loss=3.8831]\n",
            "Epoch 5/5 [chunk 4/10]: 100% 79/79 [03:02<00:00,  2.31s/batch, loss=4.0868, avg_loss=3.9570]\n",
            "Epoch 5/5 [chunk 5/10]: 100% 79/79 [03:02<00:00,  2.31s/batch, loss=4.0510, avg_loss=3.9909]\n",
            "Epoch 5/5 [chunk 6/10]: 100% 79/79 [03:02<00:00,  2.31s/batch, loss=4.4822, avg_loss=4.0105]\n",
            "Epoch 5/5 [chunk 7/10]: 100% 79/79 [03:00<00:00,  2.29s/batch, loss=3.9471, avg_loss=4.0545]\n",
            "Epoch 5/5 [chunk 8/10]: 100% 79/79 [02:59<00:00,  2.28s/batch, loss=4.0835, avg_loss=4.0880]\n",
            "Epoch 5/5 [chunk 9/10]: 100% 79/79 [03:01<00:00,  2.30s/batch, loss=4.4619, avg_loss=4.1230]\n",
            "Epoch 5/5 [chunk 10/10]: 100% 79/79 [03:03<00:00,  2.32s/batch, loss=4.5498, avg_loss=4.1390]\n",
            "Epoch 5 finished — avg_loss 4.139001 — time 1820.2s\n",
            "Saved checkpoint_epoch5.pt\n"
          ]
        }
      ],
      "source": [
        "!python -m generator.train --emb_csv gen/embeddings_new.csv --news_csv data/NewsContents.csv --epochs 5 --batch 64 --device cuda --max_rows 50000"
      ]
    },
    {
      "cell_type": "code",
      "execution_count": 13,
      "metadata": {
        "colab": {
          "base_uri": "https://localhost:8080/"
        },
        "id": "UY5XTDzB-ZH3",
        "outputId": "79c1dd94-cd0a-4350-bb10-c72046119591"
      },
      "outputs": [
        {
          "name": "stdout",
          "output_type": "stream",
          "text": [
            "Drive already mounted at /content/drive; to attempt to forcibly remount, call drive.mount(\"/content/drive\", force_remount=True).\n"
          ]
        }
      ],
      "source": [
        "from google.colab import drive\n",
        "drive.mount('/content/drive')\n",
        "\n",
        "# Copy checkpoint to Drive\n",
        "!cp generator/checkpoints/checkpoint_epoch5.pt /content/drive/MyDrive/"
      ]
    }
  ],
  "metadata": {
    "accelerator": "GPU",
    "colab": {
      "gpuType": "T4",
      "provenance": []
    },
    "kernelspec": {
      "display_name": "Python 3",
      "name": "python3"
    },
    "language_info": {
      "name": "python"
    }
  },
  "nbformat": 4,
  "nbformat_minor": 0
}
